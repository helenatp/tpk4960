{
 "cells": [
  {
   "attachments": {},
   "cell_type": "markdown",
   "metadata": {},
   "source": [
    "### Imports"
   ]
  },
  {
   "attachments": {},
   "cell_type": "markdown",
   "metadata": {},
   "source": [
    "### Defining parameters"
   ]
  },
  {
   "cell_type": "code",
   "execution_count": null,
   "metadata": {},
   "outputs": [],
   "source": [
    "# Set the initial conditions\n",
    "q0 = 1.0       # initial position\n",
    "p0 = 0.0       # initial momentum\n",
    "\n",
    "# Set the simulation parameters\n",
    "dt_leap = 0.1       # stepsize\n",
    "dt_euler = 0.1\n",
    "t_max = 10.0   # maximum simulation time\n",
    "m = 1\n",
    "K = 1"
   ]
  },
  {
   "cell_type": "code",
   "execution_count": null,
   "metadata": {},
   "outputs": [],
   "source": [
    "def hamiltonian_dynamics(p, q): # for harmonic oscillator (991) and (992) in optimization\n",
    "    return np.array([p/m, -K*q])\n",
    "\n",
    "def gradient_potenital_energy(q): \n",
    "    return K*q"
   ]
  },
  {
   "cell_type": "code",
   "execution_count": null,
   "metadata": {},
   "outputs": [],
   "source": [
    "# Define the Leapfrog integrator\n",
    "def leapfrog(q, p, dt):\n",
    "    p_half = p - 0.5*dt*gradient_potenital_energy(q)\n",
    "    q_next = q + dt*p_half\n",
    "    p_next = p_half - 0.5*dt*gradient_potenital_energy(q_next)\n",
    "    return q_next, p_next\n",
    "\n",
    "# Initialize the trajectory arrays\n",
    "t_leapfrog = np.arange(0, t_max, dt_leap)\n",
    "q_leapfrog = np.zeros_like(t_leapfrog)\n",
    "p_leapfrog = np.zeros_like(t_leapfrog)\n",
    "\n",
    "# Set the initial values\n",
    "q_leapfrog[0] = q0\n",
    "p_leapfrog[0] = p0\n",
    "\n",
    "# Run the simulation using the Leapfrog integrator\n",
    "for i in range(1, len(t_leapfrog)):\n",
    "    q_leapfrog[i], p_leapfrog[i] = leapfrog(q_leapfrog[i-1], p_leapfrog[i-1], dt_leap)\n",
    "\n",
    "# Plot the trajectory in phase space\n",
    "plt.plot(q_leapfrog, p_leapfrog, linewidth=2.5)\n",
    "plt.xlabel('Position q', fontsize = 14)\n",
    "plt.ylabel('Momentum p', fontsize = 14)\n",
    "plt.title('Harmonic oscillator phase space trajectory - Leapfrog', fontsize=14)\n",
    "plt.show()"
   ]
  },
  {
   "attachments": {},
   "cell_type": "markdown",
   "metadata": {},
   "source": [
    "#### Explicit Euler for harmonic oscillator"
   ]
  }
 ],
 "metadata": {
  "kernelspec": {
   "display_name": "Python 3",
   "language": "python",
   "name": "python3"
  },
  "language_info": {
   "codemirror_mode": {
    "name": "ipython",
    "version": 3
   },
   "file_extension": ".py",
   "mimetype": "text/x-python",
   "name": "python",
   "nbconvert_exporter": "python",
   "pygments_lexer": "ipython3",
   "version": "3.10.10"
  },
  "orig_nbformat": 4
 },
 "nbformat": 4,
 "nbformat_minor": 2
}
