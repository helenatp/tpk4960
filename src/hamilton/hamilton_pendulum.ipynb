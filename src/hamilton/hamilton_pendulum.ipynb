{
 "cells": [
  {
   "attachments": {},
   "cell_type": "markdown",
   "metadata": {},
   "source": [
    "## Hamiltonian dynamics of a pendulum"
   ]
  },
  {
   "attachments": {},
   "cell_type": "markdown",
   "metadata": {},
   "source": [
    "### Imports"
   ]
  },
  {
   "cell_type": "code",
   "execution_count": null,
   "metadata": {},
   "outputs": [],
   "source": [
    "from functools import wraps\n",
    "import numpy as np\n",
    "import matplotlib.pyplot as plt\n",
    "from scipy.integrate import solve_ivp\n",
    "from numpy.random import randn, rand\n",
    "import time\n",
    "import warnings\n",
    "\n",
    "warnings.filterwarnings(\"ignore\", category=RuntimeWarning)\n",
    "warnings.filterwarnings(\"ignore\", category=UserWarning)\n",
    "\n",
    "\n",
    "plt.style.use(\"default\")\n",
    "plt.rcParams.update({\n",
    "    \"text.usetex\": False,\n",
    "    \"font.family\": \"serif\",\n",
    "    \"font.serif\": \"Times New Roman\",\n",
    "})"
   ]
  },
  {
   "attachments": {},
   "cell_type": "markdown",
   "metadata": {},
   "source": [
    "### Noise"
   ]
  },
  {
   "cell_type": "code",
   "execution_count": null,
   "metadata": {},
   "outputs": [],
   "source": [
    "# To run without noise set value to False, to run with noise set value to True\n",
    "noise = False\n",
    "\n",
    "filename = '.eps'\n",
    "if noise: filename = '_noise.eps'"
   ]
  },
  {
   "attachments": {},
   "cell_type": "markdown",
   "metadata": {},
   "source": [
    "### Parameters"
   ]
  },
  {
   "cell_type": "code",
   "execution_count": null,
   "metadata": {},
   "outputs": [],
   "source": [
    "length = 1      # Length of the pendulum\n",
    "mass = 1        # Mass of the pendulum\n",
    "g = 9.81        # Acceleration of gravity\n",
    "\n",
    "# Set the parameters for generating trajectories\n",
    "dt_leap = 0.01    # stepsize\n",
    "dt_euler = 0.01\n",
    "t_max = 10.0   # maximum size"
   ]
  },
  {
   "attachments": {},
   "cell_type": "markdown",
   "metadata": {},
   "source": [
    "### Functions"
   ]
  },
  {
   "cell_type": "code",
   "execution_count": null,
   "metadata": {},
   "outputs": [],
   "source": [
    "def hamiltonian_dynamics(t, x):\n",
    "    return np.array([x[1]/(mass*(length**2)), -mass*g*length*np.sin(x[0])])\n",
    "\n",
    "def gradient_potenital_energy(q): \n",
    "    return mass*g*length*np.sin(q)"
   ]
  },
  {
   "attachments": {},
   "cell_type": "markdown",
   "metadata": {},
   "source": [
    "### Leapfrog integrator"
   ]
  },
  {
   "cell_type": "code",
   "execution_count": null,
   "metadata": {},
   "outputs": [],
   "source": [
    "def leapfrog(q, p, dt):\n",
    "    p_half = p - 0.5*dt*gradient_potenital_energy(q)\n",
    "    q_next = q + dt*p_half\n",
    "    p_next = p_half - 0.5*dt*gradient_potenital_energy(q_next)\n",
    "    return np.array([q_next, p_next])\n",
    "\n",
    "def generate_trajectory(q0, p0, t_max, dt_leap):\n",
    "    # Initialize the trajectory arrays\n",
    "    t_leapfrog = np.arange(0, t_max, dt_leap)\n",
    "    x_leapfrog = np.zeros((2, len(t_leapfrog)))\n",
    "\n",
    "    # Set the initial values\n",
    "    x_leapfrog[:, 0] = np.array([q0, p0])\n",
    "\n",
    "    # Run the simulation using the Leapfrog integrator\n",
    "    for i in range(1, len(t_leapfrog)):\n",
    "        x_leapfrog[:, i] = leapfrog(x_leapfrog[0, i-1], x_leapfrog[1, i-1], dt_leap)\n",
    "\n",
    "    return x_leapfrog"
   ]
  },
  {
   "attachments": {},
   "cell_type": "markdown",
   "metadata": {},
   "source": [
    "#### Plot trajectory"
   ]
  },
  {
   "cell_type": "code",
   "execution_count": null,
   "metadata": {},
   "outputs": [],
   "source": [
    "init_conditions = [[2, 0]]\n",
    "x_leapfrog = []\n",
    "\n",
    "for i in range(len(init_conditions)):\n",
    "    x = generate_trajectory(init_conditions[i][0], init_conditions[i][1], t_max, dt_leap)\n",
    "    x_leapfrog.append(x)\n",
    "\n",
    "# Plot the trajectory in phase space\n",
    "for i in range(len(x_leapfrog)):\n",
    "    plt.plot(x_leapfrog[i][0, :], x_leapfrog[i][1, :])\n",
    "\n",
    "plt.xlabel('Position q', fontsize = 14)\n",
    "plt.ylabel('Momentum p', fontsize = 14)\n",
    "plt.xlim((-2.5, 2.5))\n",
    "plt.ylim((-6, 6))\n",
    "plt.axhline(y=0, color='grey')\n",
    "plt.axvline(x=0, color='grey')\n",
    "plt.title('Pendulum phase space trajectory - Leapfrog', fontsize=16)\n",
    "plt.show()"
   ]
  },
  {
   "attachments": {},
   "cell_type": "markdown",
   "metadata": {},
   "source": [
    "### Explicit Euler method"
   ]
  },
  {
   "cell_type": "code",
   "execution_count": null,
   "metadata": {},
   "outputs": [],
   "source": [
    "def explicit_euler(q, p, dt):\n",
    "    p_next = p - dt * gradient_potenital_energy(q)\n",
    "    q_next = q + dt * p/mass\n",
    "    return np.array([q_next, p_next])\n",
    "\n",
    "def generate_trajectory_euler(q0, p0, t_max, dt_euler):\n",
    "    # Initialize the trajectory arrays\n",
    "    t_euler = np.arange(0, t_max, dt_euler)\n",
    "    x_euler = np.zeros((2, len(t_euler)))\n",
    "\n",
    "    # Set the initial values\n",
    "    x_euler[:, 0] = np.array([q0, p0])\n",
    "\n",
    "    # Run the simulation using the Euler integrator\n",
    "    for i in range(1, len(t_euler)):\n",
    "        x_euler[:, i]= explicit_euler(x_euler[0, i-1], x_euler[1, i-1], dt_euler)\n",
    "\n",
    "    return x_euler"
   ]
  },
  {
   "attachments": {},
   "cell_type": "markdown",
   "metadata": {},
   "source": [
    "#### Plot trajecory"
   ]
  },
  {
   "cell_type": "code",
   "execution_count": null,
   "metadata": {},
   "outputs": [],
   "source": [
    "init_conditions_euler = [[2, 0]]\n",
    "x_euler = []\n",
    "\n",
    "for i in range(len(init_conditions_euler)):\n",
    "    x = generate_trajectory_euler(init_conditions_euler[i][0], init_conditions_euler[i][1], t_max, dt_euler)\n",
    "    x_euler.append(x)\n",
    "\n",
    "# Plot the trajectory in phase space\n",
    "for i in range(len(x_euler)):\n",
    "    plt.plot(x_euler[i][0, :], x_euler[i][1, :])\n",
    "\n",
    "plt.xlabel('Position q', fontsize = 14)\n",
    "plt.ylabel('Momentum p', fontsize = 14)\n",
    "plt.axhline(y=0, color='grey')\n",
    "plt.axvline(x=0, color='grey')\n",
    "plt.title('Pendulum phase space trajectory - Explicit Euler', fontsize=16)\n",
    "plt.show()"
   ]
  },
  {
   "attachments": {},
   "cell_type": "markdown",
   "metadata": {},
   "source": [
    "## Regression problems"
   ]
  },
  {
   "cell_type": "code",
   "execution_count": null,
   "metadata": {},
   "outputs": [],
   "source": [
    "# Parameters for generating training trajectory\n",
    "time_series = np.arange(0, t_max, dt_leap)\n",
    "num_of_points = len(time_series)\n",
    "start_state = np.array([2, 0])\n",
    "\n",
    "# Parameters used in regression problem\n",
    "dim_of_function = 2\n",
    "sigma = 5\n",
    "lambda_ = 0.001\n",
    "num_of_samples = 30\n",
    "\n",
    "# Generate parameters for feature map\n",
    "#w = randn(dim_of_function, num_of_samples)/sigma\n",
    "#b = rand(1, num_of_samples)*2*np.pi\n",
    "\n",
    "# Load the saved parameters for feature map\n",
    "w = np.load('RFF_parameters/w_pendulum_symplectic.npy')\n",
    "b = np.load('RFF_parameters/b_pendulum_symplectic.npy')\n",
    "\n",
    "# Parameters used to simulate learnt model\n",
    "init_time = 0\n",
    "timespan = np.array([init_time, t_max])\n",
    "points = int(t_max/dt_leap)\n",
    "t_eval = np.linspace(init_time, t_max, points)"
   ]
  },
  {
   "attachments": {},
   "cell_type": "markdown",
   "metadata": {},
   "source": [
    "#### Generate training trajectory"
   ]
  },
  {
   "cell_type": "code",
   "execution_count": null,
   "metadata": {},
   "outputs": [],
   "source": [
    "x_train = np.zeros((dim_of_function, num_of_points))\n",
    "y_train = np.zeros_like(x_train)\n",
    "noise_sigma = 0.01\n",
    "\n",
    "x_train = generate_trajectory(start_state[0], start_state[1], t_max, dt_leap)\n",
    "\n",
    "for i in range(len(x_train[0])):\n",
    "    y_train[:, i] = hamiltonian_dynamics(0, x_train[:, i])\n",
    "\n",
    "# Generate noise\n",
    "#noise_x = np.random.normal(loc=0.0, scale=noise_sigma, size=(dim_of_function, num_of_points))\n",
    "#noise_y = np.random.normal(loc=0.0, scale=noise_sigma, size=(dim_of_function, num_of_points))\n",
    "\n",
    "# Load the saved noise\n",
    "noise_x = np.load('RFF_parameters/noise_x_pendulum_symplectic.npy')\n",
    "noise_y = np.load('RFF_parameters/noise_y_pendulum_symplectic.npy')\n",
    "\n",
    "if noise: \n",
    "    x_train = x_train + noise_x\n",
    "    y_train = y_train + noise_y"
   ]
  },
  {
   "attachments": {},
   "cell_type": "markdown",
   "metadata": {},
   "source": [
    "#### Plot training trajectory"
   ]
  },
  {
   "cell_type": "code",
   "execution_count": null,
   "metadata": {},
   "outputs": [],
   "source": [
    "lower_bound_x1 = -4\n",
    "upper_bound_x1 = 4\n",
    "lower_bound_x2 = -10\n",
    "upper_bound_x2 = 10\n",
    "\n",
    "grid_points = 11\n",
    "\n",
    "x1 = np.linspace(lower_bound_x1, upper_bound_x1, grid_points)\n",
    "x2 = np.linspace(lower_bound_x2, upper_bound_x2, grid_points)\n",
    "\n",
    "# Base point or starting points for each vector of the vector field\n",
    "[X1, X2] = np.meshgrid(x1, x2)\n",
    "\n",
    "# Calculate df/dt for each point\n",
    "t = 0\n",
    "\n",
    "u = np.zeros(X1.shape)\n",
    "v = np.zeros(X1.shape)\n",
    "u_norm = np.zeros(X1.shape)\n",
    "v_norm = np.zeros(X1.shape)\n",
    "\n",
    "for (i, j), value in np.ndenumerate(X1):\n",
    "    # get velocities at each point\n",
    "    Y_prime = hamiltonian_dynamics(t, np.array([value, X2[i, j]]))\n",
    "    u[i, j] = Y_prime[0]\n",
    "    v[i, j] = Y_prime[1]\n",
    "\n",
    "    # normalize vector length\n",
    "    V_mod = np.sqrt(u[i, j]**2 + v[i, j]**2)\n",
    "    u_norm[i, j] = u[i, j] / V_mod\n",
    "    v_norm[i, j] = v[i, j] / V_mod\n",
    "\n",
    "fig_pendulum = plt.figure(4)\n",
    "plt.title('Pendulum with leapfrog used in learning', fontsize=16)\n",
    "if noise: plt.title('Pendulum with leapfrog and noise used in learning', fontsize=16)\n",
    "plt.plot(x_train[0, :], x_train[1, :], '.', linewidth=1)\n",
    "plt.streamplot(X1, X2, u, v, density=1.1, color='gray')\n",
    "plt.quiver(x_train[0, :], x_train[1, :], y_train[0, :], y_train[1, :])\n",
    "plt.xlabel('q', fontsize=14)\n",
    "plt.ylabel('p', fontsize=14)\n",
    "plt.legend(['Trajectory', 'Streamlines'], loc = 'upper right', frameon = True , prop ={'size': 14 } )\n",
    "fig_pendulum.show()"
   ]
  },
  {
   "attachments": {},
   "cell_type": "markdown",
   "metadata": {},
   "source": [
    "### Model for symplectic feature map"
   ]
  },
  {
   "attachments": {},
   "cell_type": "markdown",
   "metadata": {},
   "source": [
    "#### Functions"
   ]
  },
  {
   "cell_type": "code",
   "execution_count": null,
   "metadata": {},
   "outputs": [],
   "source": [
    "def psi_symplectic(x, w, b):\n",
    "    return np.sqrt(2)*np.cos(w.T@x + b)*w.T\n",
    "\n",
    "def capital_psi_symplectic(x, w, b, d, dim):\n",
    "    psi_vector_symplectic = np.zeros((d, dim))\n",
    "    m = 1\n",
    "    J = np.block([[np.zeros((m,m)), np.identity(m)],\n",
    "              [-np.identity(m), np.zeros((m,m))]])\n",
    "    for i in range(d):\n",
    "        psi_element = psi_symplectic(x, w[:, i], b[:, i])\n",
    "        psi_vector_symplectic[i] = J@psi_element\n",
    "    return psi_vector_symplectic.T\n",
    "\n",
    "def phi_symplectic(x, w, b, n, d, dim):\n",
    "    phi = np.zeros((dim*n, d))\n",
    "    for i in range(n):\n",
    "        psi = capital_psi_symplectic(x[:, i], w, b, d, dim)\n",
    "        phi[dim*i] = psi[0]\n",
    "        phi[dim*i+1] = psi[1]\n",
    "    return phi"
   ]
  },
  {
   "attachments": {},
   "cell_type": "markdown",
   "metadata": {},
   "source": [
    "#### Alpha for symplectic feature map"
   ]
  },
  {
   "cell_type": "code",
   "execution_count": null,
   "metadata": {},
   "outputs": [],
   "source": [
    "def alpha_approx_symplectic(x, y, dim, d, lam, n):\n",
    "    phi_ = phi_symplectic(x, w, b, n, d, dim)\n",
    "    alpha_inv_part = np.linalg.inv(phi_.T @ phi_ + lam*np.eye(d))\n",
    "    y_reshaped = np.array(np.ravel([y[0], y[1]], 'F'))\n",
    "    alpha = alpha_inv_part @ (phi_.T @ y_reshaped)\n",
    "    return alpha"
   ]
  },
  {
   "attachments": {},
   "cell_type": "markdown",
   "metadata": {},
   "source": [
    "#### Solve regression problem"
   ]
  },
  {
   "cell_type": "code",
   "execution_count": null,
   "metadata": {},
   "outputs": [],
   "source": [
    "alpha_symplectic = alpha_approx_symplectic(x_train, y_train, dim_of_function, num_of_samples, lambda_, num_of_points)"
   ]
  },
  {
   "attachments": {},
   "cell_type": "markdown",
   "metadata": {},
   "source": [
    "#### Funtion to learn model"
   ]
  },
  {
   "cell_type": "code",
   "execution_count": null,
   "metadata": {},
   "outputs": [],
   "source": [
    "def learnt_model_symplectic(t, x):\n",
    "    func = capital_psi_symplectic(x, w, b, num_of_samples, dim_of_function) @ alpha_symplectic\n",
    "    return func"
   ]
  },
  {
   "attachments": {},
   "cell_type": "markdown",
   "metadata": {},
   "source": [
    "#### Simulate vector field"
   ]
  },
  {
   "cell_type": "code",
   "execution_count": null,
   "metadata": {},
   "outputs": [],
   "source": [
    "data_series_symplectic = solve_ivp(learnt_model_symplectic, timespan, start_state, t_eval=t_eval).y"
   ]
  },
  {
   "attachments": {},
   "cell_type": "markdown",
   "metadata": {},
   "source": [
    "#### Plot vector field for learnt model"
   ]
  },
  {
   "cell_type": "code",
   "execution_count": null,
   "metadata": {},
   "outputs": [],
   "source": [
    "u_learnt_symplectic = np.zeros(X1.shape)\n",
    "v_learnt_symplectic = np.zeros(X1.shape)\n",
    "\n",
    "# for loop to get the velocity at each point with the learnt model\n",
    "for (i, j), value in np.ndenumerate(X1):\n",
    "    Y_prime = learnt_model_symplectic(t, np.array([value, X2[i, j]]))\n",
    "    u_learnt_symplectic[i, j] = Y_prime[0]\n",
    "    v_learnt_symplectic[i, j] = Y_prime[1]"
   ]
  },
  {
   "cell_type": "code",
   "execution_count": null,
   "metadata": {},
   "outputs": [],
   "source": [
    "fig_pendulum_hamilton = plt.figure(6)\n",
    "plt.title('Learnt Pendulum model - Symplectic kernel', fontsize=16)\n",
    "if noise: plt.title('Learnt Pendulum model with noise - Symplectic kernel', fontsize=16)\n",
    "plt.plot(data_series_symplectic[0, :], data_series_symplectic[1, :], '.', linewidth = 1)\n",
    "plt.streamplot(X1, X2, u_learnt_symplectic, v_learnt_symplectic, density = 1.1, color ='gray')\n",
    "plt.xlabel('q', fontsize=14)\n",
    "plt.ylabel('p', fontsize=14)\n",
    "plt.legend(['Estiamted Trajectory', 'Streamlines'], loc = 'upper right', frameon = True , prop ={'size': 12 } )\n",
    "fig_pendulum_hamilton.show()"
   ]
  },
  {
   "attachments": {},
   "cell_type": "markdown",
   "metadata": {},
   "source": [
    "#### Comparison of estimated and actual trajectory"
   ]
  },
  {
   "cell_type": "code",
   "execution_count": null,
   "metadata": {},
   "outputs": [],
   "source": [
    "fig_pendulum_hamilton = plt.figure(6)\n",
    "plt.title('Actual Trajectory & Estimated Trajectory - Symplectic kernel', fontsize=16)\n",
    "if noise: plt.title('Actual & Estimated Trajectory with noise - Symplectic kernel', fontsize=16)\n",
    "plt.plot(data_series_symplectic[0, :], data_series_symplectic[1, :], '.', linewidth = 0.2)\n",
    "plt.plot(x_train[0, :], x_train[1, :], '-', linewidth = 1.8, color='r')\n",
    "plt.streamplot(X1, X2, u_learnt_symplectic, v_learnt_symplectic, density = 1.1, color ='gray')\n",
    "plt.xlabel('q', fontsize=14)\n",
    "plt.ylabel('p', fontsize=14)\n",
    "plt.legend(['Estiamted Trajectory', 'Actual trajectory'], loc = 'upper right', frameon = True , prop ={'size': 12 } )\n",
    "fig_pendulum_hamilton.show()"
   ]
  },
  {
   "attachments": {},
   "cell_type": "markdown",
   "metadata": {},
   "source": [
    "#### Save satisfactory feature map parameters"
   ]
  },
  {
   "cell_type": "code",
   "execution_count": null,
   "metadata": {},
   "outputs": [],
   "source": [
    "#np.save('RFF_parameters/w_pendulum_symplectic', w)\n",
    "#np.save('RFF_parameters/b_pendulum_symplectic', b)"
   ]
  },
  {
   "attachments": {},
   "cell_type": "markdown",
   "metadata": {},
   "source": [
    "### RFF for Gaussian separable kernel"
   ]
  },
  {
   "cell_type": "code",
   "execution_count": null,
   "metadata": {},
   "outputs": [],
   "source": [
    "def psi(x, w, b):\n",
    "    return np.sqrt(2) * np.cos(w.T@x + b)\n",
    "\n",
    "def psi_vector(x, w, b, d):\n",
    "    psi_vector = np.zeros(d)\n",
    "    for i in range(d):\n",
    "        x = x.reshape((-1,))\n",
    "        psi_vector[i] = psi(x, w[:, i], b[:, i])\n",
    "    return np.array(psi_vector)\n",
    "\n",
    "def capital_psi(x, w, b, d, dim):\n",
    "    psi = psi_vector(x, w, b, d)\n",
    "    return np.kron(psi, np.eye(dim))\n",
    "\n",
    "def phi(x, w, b, n, d, dim):\n",
    "    phi = np.zeros((dim*n, dim*d))\n",
    "    for i in range(0, n):\n",
    "        psi = capital_psi(x[:, i], w, b, d, dim)\n",
    "        phi[dim*i] = psi[0]\n",
    "        phi[dim*i+1] = psi[1]\n",
    "    return phi"
   ]
  },
  {
   "attachments": {},
   "cell_type": "markdown",
   "metadata": {},
   "source": [
    "#### Alpha for Gaussian separable feature map"
   ]
  },
  {
   "cell_type": "code",
   "execution_count": null,
   "metadata": {},
   "outputs": [],
   "source": [
    "def alpha_approx(x, y, dim, d, lam, n):\n",
    "    phi_ = phi(x, w, b, n, d, dim)\n",
    "    alpha_inv_part = np.linalg.inv(phi_.T @ phi_ + lam*np.eye(dim*d))\n",
    "    y_reshaped = np.array(np.ravel([y[0], y[1]], 'F'))\n",
    "    alpha = alpha_inv_part @ (phi_.T @ y_reshaped)\n",
    "    return alpha"
   ]
  },
  {
   "attachments": {},
   "cell_type": "markdown",
   "metadata": {},
   "source": [
    "#### Solve regression problem"
   ]
  },
  {
   "cell_type": "code",
   "execution_count": null,
   "metadata": {},
   "outputs": [],
   "source": [
    "alpha_gauss = alpha_approx(x_train, y_train, dim_of_function, num_of_samples, lambda_, num_of_points)"
   ]
  },
  {
   "attachments": {},
   "cell_type": "markdown",
   "metadata": {},
   "source": [
    "#### Function to learn model"
   ]
  },
  {
   "cell_type": "code",
   "execution_count": null,
   "metadata": {},
   "outputs": [],
   "source": [
    "def learnt_model_gauss(t, x):\n",
    "    func = capital_psi(x, w, b, num_of_samples, dim_of_function) @ alpha_gauss\n",
    "    return func"
   ]
  },
  {
   "attachments": {},
   "cell_type": "markdown",
   "metadata": {},
   "source": [
    "#### Simulate vector field"
   ]
  },
  {
   "cell_type": "code",
   "execution_count": null,
   "metadata": {},
   "outputs": [],
   "source": [
    "data_series = solve_ivp(learnt_model_gauss, timespan, start_state, t_eval=t_eval).y"
   ]
  },
  {
   "attachments": {},
   "cell_type": "markdown",
   "metadata": {},
   "source": [
    "#### Plot vector field for learnt model"
   ]
  },
  {
   "cell_type": "code",
   "execution_count": null,
   "metadata": {},
   "outputs": [],
   "source": [
    "u_learnt_gaussian = np.zeros(X1.shape)\n",
    "v_learnt_gaussian = np.zeros(X1.shape)\n",
    "\n",
    "# for loop to get the velocity at each point witht the learnt model\n",
    "for (i, j), value in np.ndenumerate(X1):\n",
    "    Y_prime = learnt_model_gauss(t, np.array([value, X2[i, j]]))\n",
    "    u_learnt_gaussian[i, j] = Y_prime[0]\n",
    "    v_learnt_gaussian[i, j] = Y_prime[1]"
   ]
  },
  {
   "cell_type": "code",
   "execution_count": null,
   "metadata": {},
   "outputs": [],
   "source": [
    "fig_pendulum_hamilton = plt.figure(6)\n",
    "plt.title('Learnt Pendulum model - Gaussian kernel', fontsize=16)\n",
    "if noise: plt.title('Learnt Pendulum model with noise - Gaussian kernel', fontsize=16)\n",
    "plt.plot(data_series[0, :], data_series[1, :], '.', markersize = 4)\n",
    "plt.streamplot(X1, X2, u_learnt_gaussian, v_learnt_gaussian, density = 1.1, color ='gray')\n",
    "plt.xlabel('q', fontsize=14)\n",
    "plt.ylabel('p', fontsize=14)\n",
    "plt.legend(['Estimated trajectory', 'Streamlines'], loc = 'upper right', frameon = True , prop ={'size': 12 } )\n",
    "fig_pendulum_hamilton.show()"
   ]
  },
  {
   "attachments": {},
   "cell_type": "markdown",
   "metadata": {},
   "source": [
    "#### Comparison of estimated and actual trajectory"
   ]
  },
  {
   "cell_type": "code",
   "execution_count": null,
   "metadata": {},
   "outputs": [],
   "source": [
    "fig_pendulum_hamilton = plt.figure(6)\n",
    "plt.title('Actual Trajectory & Estimated Trajectory - Gaussian kernel', fontsize=16)\n",
    "if noise: plt.title('Actual & Estimated Trajectory with noise - Gaussian kernel', fontsize=16)\n",
    "plt.plot(data_series[0, :], data_series[1, :], '.', markersize = 4)\n",
    "plt.plot(x_train[0, :], x_train[1, :], '-', linewidth = 1.8, color='r') \n",
    "plt.streamplot(X1, X2, u_learnt_gaussian, v_learnt_gaussian, density = 1.1, color ='gray')\n",
    "plt.xlabel('q', fontsize=14)\n",
    "plt.ylabel('p', fontsize=14)\n",
    "plt.legend(['Estimated trajectory', 'Actual trajectory'], loc = 'upper right', frameon = True , prop ={'size': 12 } )\n",
    "fig_pendulum_hamilton.show()"
   ]
  },
  {
   "attachments": {},
   "cell_type": "markdown",
   "metadata": {},
   "source": [
    "### Reproduction accuracy"
   ]
  },
  {
   "cell_type": "code",
   "execution_count": null,
   "metadata": {},
   "outputs": [],
   "source": [
    "error_symplectic = x_train - data_series_symplectic\n",
    "\n",
    "fig_pendulum_error_symplectic = plt.figure(7)\n",
    "plt.title('Error for q and p - Symplectic kernel', fontsize=16)\n",
    "if noise: plt.title('Error for q and p with noise - Symplectic kernel', fontsize=16)\n",
    "plt.plot(time_series, error_symplectic[0, :], '.', linewidth = 0.000001)\n",
    "plt.plot(time_series, error_symplectic[1, :], '.', linewidth = 0.0000001, color = 'lightblue')\n",
    "plt.xlabel('Time', fontsize=14)\n",
    "plt.ylabel('Error', fontsize=14)\n",
    "plt.axhline(y=0, color='grey')\n",
    "plt.legend(['Position q', 'Momentum p'], loc = 'upper left', frameon = True , prop ={'size': 12 } )\n",
    "fig_pendulum_error_symplectic.show()"
   ]
  },
  {
   "cell_type": "code",
   "execution_count": null,
   "metadata": {},
   "outputs": [],
   "source": [
    "error_gauss = x_train - data_series\n",
    "\n",
    "fig_pendulum_error_symplectic = plt.figure(7)\n",
    "plt.title('Error for q and p - Gaussian kernel', fontsize=16)\n",
    "if noise: plt.title('Error for q and p with noise - Gaussian kernel', fontsize=16)\n",
    "plt.plot(time_series, error_gauss[0, :], '.', linewidth = 0.000001)\n",
    "plt.plot(time_series, error_gauss[1, :], '.', linewidth = 0.000001, color = 'lightblue')\n",
    "plt.xlabel('Time', fontsize=14)\n",
    "plt.ylabel('Error', fontsize=14)\n",
    "plt.axhline(y=0, color='grey')\n",
    "plt.legend(['Position q', 'Momentum p'], loc = 'upper left', frameon = True , prop ={'size': 12 } )\n",
    "fig_pendulum_error_symplectic.show()"
   ]
  },
  {
   "cell_type": "code",
   "execution_count": null,
   "metadata": {},
   "outputs": [],
   "source": [
    "error_symplectic_total = np.linalg.norm(x_train - data_series_symplectic, ord=2, axis=0)\n",
    "error_gauss_total = np.linalg.norm(x_train - data_series, ord=2, axis=0)\n",
    "\n",
    "fig_pendulum_error_gauss_total = plt.figure(8)\n",
    "plt.title('Total Error - Symplectic and Gaussian kernel', fontsize=16)\n",
    "if noise: plt.title('Total Error with noise - Symplectic and Gaussian kernel', fontsize=16)\n",
    "plt.plot(time_series, error_symplectic_total, '.', linewidth = 0.000001)\n",
    "plt.plot(time_series, error_gauss_total, '.', linewidth = 0.000001, color = 'lightblue')\n",
    "plt.xlabel('Time', fontsize=14)\n",
    "plt.ylabel('Error', fontsize=14)\n",
    "plt.legend(['Symplectic kernel', 'Gaussian kernel'], loc = 'upper left', frameon = True , prop ={'size': 12 } )\n",
    "fig_pendulum_error_gauss_total.show()"
   ]
  },
  {
   "cell_type": "code",
   "execution_count": null,
   "metadata": {},
   "outputs": [],
   "source": [
    "error_symplectic_mean = np.mean(np.linalg.norm(x_train - data_series_symplectic, ord=2, axis=0) / t_max)\n",
    "error_gauss_mean = np.mean(np.linalg.norm(x_train - data_series, ord=2, axis=0) / t_max)\n",
    "\n",
    "print(error_symplectic_mean)\n",
    "print(error_gauss_mean)"
   ]
  }
 ],
 "metadata": {
  "kernelspec": {
   "display_name": "Python 3",
   "language": "python",
   "name": "python3"
  },
  "language_info": {
   "codemirror_mode": {
    "name": "ipython",
    "version": 3
   },
   "file_extension": ".py",
   "mimetype": "text/x-python",
   "name": "python",
   "nbconvert_exporter": "python",
   "pygments_lexer": "ipython3",
   "version": "3.10.10"
  },
  "orig_nbformat": 4
 },
 "nbformat": 4,
 "nbformat_minor": 2
}
